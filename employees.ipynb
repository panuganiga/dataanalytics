{
 "cells": [
  {
   "cell_type": "code",
   "execution_count": 1,
   "id": "163f7ac8",
   "metadata": {},
   "outputs": [
    {
     "ename": "SyntaxError",
     "evalue": "(unicode error) 'unicodeescape' codec can't decode bytes in position 2-3: truncated \\UXXXXXXXX escape (2633911734.py, line 3)",
     "output_type": "error",
     "traceback": [
      "\u001b[1;36m  Input \u001b[1;32mIn [1]\u001b[1;36m\u001b[0m\n\u001b[1;33m    df=pd.read_csv(\"C:\\Users\\User\\Downloads\\employees.csv\")\u001b[0m\n\u001b[1;37m                                                          ^\u001b[0m\n\u001b[1;31mSyntaxError\u001b[0m\u001b[1;31m:\u001b[0m (unicode error) 'unicodeescape' codec can't decode bytes in position 2-3: truncated \\UXXXXXXXX escape\n"
     ]
    }
   ],
   "source": [
    "import pandas as pd\n",
    "import numpy as np\n",
    "df=pd.read_csv(\"C:\\Users\\User\\Downloads\\employees.csv\")\n",
    "print(df.head())"
   ]
  },
  {
   "cell_type": "code",
   "execution_count": 2,
   "id": "93d1024d",
   "metadata": {},
   "outputs": [
    {
     "ename": "SyntaxError",
     "evalue": "(unicode error) 'unicodeescape' codec can't decode bytes in position 2-3: truncated \\UXXXXXXXX escape (3744593853.py, line 3)",
     "output_type": "error",
     "traceback": [
      "\u001b[1;36m  Input \u001b[1;32mIn [2]\u001b[1;36m\u001b[0m\n\u001b[1;33m    df=pd.read_csv(\"C:\\Users\\User\\Downloads/employees.csv\")\u001b[0m\n\u001b[1;37m                                                          ^\u001b[0m\n\u001b[1;31mSyntaxError\u001b[0m\u001b[1;31m:\u001b[0m (unicode error) 'unicodeescape' codec can't decode bytes in position 2-3: truncated \\UXXXXXXXX escape\n"
     ]
    }
   ],
   "source": [
    "import pandas as pd\n",
    "import numpy as np\n",
    "df=pd.read_csv(\"C:\\Users\\User\\Downloads/employees.csv\")\n",
    "print(df.head())"
   ]
  },
  {
   "cell_type": "code",
   "execution_count": 3,
   "id": "cf318e99",
   "metadata": {},
   "outputs": [
    {
     "ename": "SyntaxError",
     "evalue": "(unicode error) 'unicodeescape' codec can't decode bytes in position 2-3: truncated \\UXXXXXXXX escape (1832625856.py, line 3)",
     "output_type": "error",
     "traceback": [
      "\u001b[1;36m  Input \u001b[1;32mIn [3]\u001b[1;36m\u001b[0m\n\u001b[1;33m    df=pd.read_csv(\"C:\\Users\\User\\Downloads\\employees.csv\")\u001b[0m\n\u001b[1;37m                                                          ^\u001b[0m\n\u001b[1;31mSyntaxError\u001b[0m\u001b[1;31m:\u001b[0m (unicode error) 'unicodeescape' codec can't decode bytes in position 2-3: truncated \\UXXXXXXXX escape\n"
     ]
    }
   ],
   "source": [
    "import pandas as pd\n",
    "import numpy as np\n",
    "df=pd.read_csv(\"C:\\Users\\User\\Downloads\\employees.csv\")\n",
    "df"
   ]
  },
  {
   "cell_type": "code",
   "execution_count": 4,
   "id": "86cf7a01",
   "metadata": {},
   "outputs": [],
   "source": [
    "import pandas as pd\n",
    "import numpy as np\n"
   ]
  },
  {
   "cell_type": "code",
   "execution_count": 5,
   "id": "b2cf4db1",
   "metadata": {},
   "outputs": [
    {
     "ename": "SyntaxError",
     "evalue": "(unicode error) 'unicodeescape' codec can't decode bytes in position 2-3: truncated \\UXXXXXXXX escape (2326259800.py, line 1)",
     "output_type": "error",
     "traceback": [
      "\u001b[1;36m  Input \u001b[1;32mIn [5]\u001b[1;36m\u001b[0m\n\u001b[1;33m    df=pd.read_csv(\"C:\\Users\\User\\Downloads\\employees.csv\")\u001b[0m\n\u001b[1;37m                                                          ^\u001b[0m\n\u001b[1;31mSyntaxError\u001b[0m\u001b[1;31m:\u001b[0m (unicode error) 'unicodeescape' codec can't decode bytes in position 2-3: truncated \\UXXXXXXXX escape\n"
     ]
    }
   ],
   "source": [
    "df=pd.read_csv(\"C:/Users/User/Downloadsemployees.csv\")\n",
    "df"
   ]
  },
  {
   "cell_type": "code",
   "execution_count": 6,
   "id": "846f21c1",
   "metadata": {},
   "outputs": [
    {
     "ename": "FileNotFoundError",
     "evalue": "[Errno 2] No such file or directory: 'C:/Users/User/Downloadsemployees.csv'",
     "output_type": "error",
     "traceback": [
      "\u001b[1;31m---------------------------------------------------------------------------\u001b[0m",
      "\u001b[1;31mFileNotFoundError\u001b[0m                         Traceback (most recent call last)",
      "Input \u001b[1;32mIn [6]\u001b[0m, in \u001b[0;36m<cell line: 1>\u001b[1;34m()\u001b[0m\n\u001b[1;32m----> 1\u001b[0m df\u001b[38;5;241m=\u001b[39m\u001b[43mpd\u001b[49m\u001b[38;5;241;43m.\u001b[39;49m\u001b[43mread_csv\u001b[49m\u001b[43m(\u001b[49m\u001b[38;5;124;43m\"\u001b[39;49m\u001b[38;5;124;43mC:/Users/User/Downloadsemployees.csv\u001b[39;49m\u001b[38;5;124;43m\"\u001b[39;49m\u001b[43m)\u001b[49m\n\u001b[0;32m      2\u001b[0m df\n",
      "File \u001b[1;32m~\\anaconda3\\lib\\site-packages\\pandas\\util\\_decorators.py:311\u001b[0m, in \u001b[0;36mdeprecate_nonkeyword_arguments.<locals>.decorate.<locals>.wrapper\u001b[1;34m(*args, **kwargs)\u001b[0m\n\u001b[0;32m    305\u001b[0m \u001b[38;5;28;01mif\u001b[39;00m \u001b[38;5;28mlen\u001b[39m(args) \u001b[38;5;241m>\u001b[39m num_allow_args:\n\u001b[0;32m    306\u001b[0m     warnings\u001b[38;5;241m.\u001b[39mwarn(\n\u001b[0;32m    307\u001b[0m         msg\u001b[38;5;241m.\u001b[39mformat(arguments\u001b[38;5;241m=\u001b[39marguments),\n\u001b[0;32m    308\u001b[0m         \u001b[38;5;167;01mFutureWarning\u001b[39;00m,\n\u001b[0;32m    309\u001b[0m         stacklevel\u001b[38;5;241m=\u001b[39mstacklevel,\n\u001b[0;32m    310\u001b[0m     )\n\u001b[1;32m--> 311\u001b[0m \u001b[38;5;28;01mreturn\u001b[39;00m func(\u001b[38;5;241m*\u001b[39margs, \u001b[38;5;241m*\u001b[39m\u001b[38;5;241m*\u001b[39mkwargs)\n",
      "File \u001b[1;32m~\\anaconda3\\lib\\site-packages\\pandas\\io\\parsers\\readers.py:680\u001b[0m, in \u001b[0;36mread_csv\u001b[1;34m(filepath_or_buffer, sep, delimiter, header, names, index_col, usecols, squeeze, prefix, mangle_dupe_cols, dtype, engine, converters, true_values, false_values, skipinitialspace, skiprows, skipfooter, nrows, na_values, keep_default_na, na_filter, verbose, skip_blank_lines, parse_dates, infer_datetime_format, keep_date_col, date_parser, dayfirst, cache_dates, iterator, chunksize, compression, thousands, decimal, lineterminator, quotechar, quoting, doublequote, escapechar, comment, encoding, encoding_errors, dialect, error_bad_lines, warn_bad_lines, on_bad_lines, delim_whitespace, low_memory, memory_map, float_precision, storage_options)\u001b[0m\n\u001b[0;32m    665\u001b[0m kwds_defaults \u001b[38;5;241m=\u001b[39m _refine_defaults_read(\n\u001b[0;32m    666\u001b[0m     dialect,\n\u001b[0;32m    667\u001b[0m     delimiter,\n\u001b[1;32m   (...)\u001b[0m\n\u001b[0;32m    676\u001b[0m     defaults\u001b[38;5;241m=\u001b[39m{\u001b[38;5;124m\"\u001b[39m\u001b[38;5;124mdelimiter\u001b[39m\u001b[38;5;124m\"\u001b[39m: \u001b[38;5;124m\"\u001b[39m\u001b[38;5;124m,\u001b[39m\u001b[38;5;124m\"\u001b[39m},\n\u001b[0;32m    677\u001b[0m )\n\u001b[0;32m    678\u001b[0m kwds\u001b[38;5;241m.\u001b[39mupdate(kwds_defaults)\n\u001b[1;32m--> 680\u001b[0m \u001b[38;5;28;01mreturn\u001b[39;00m \u001b[43m_read\u001b[49m\u001b[43m(\u001b[49m\u001b[43mfilepath_or_buffer\u001b[49m\u001b[43m,\u001b[49m\u001b[43m \u001b[49m\u001b[43mkwds\u001b[49m\u001b[43m)\u001b[49m\n",
      "File \u001b[1;32m~\\anaconda3\\lib\\site-packages\\pandas\\io\\parsers\\readers.py:575\u001b[0m, in \u001b[0;36m_read\u001b[1;34m(filepath_or_buffer, kwds)\u001b[0m\n\u001b[0;32m    572\u001b[0m _validate_names(kwds\u001b[38;5;241m.\u001b[39mget(\u001b[38;5;124m\"\u001b[39m\u001b[38;5;124mnames\u001b[39m\u001b[38;5;124m\"\u001b[39m, \u001b[38;5;28;01mNone\u001b[39;00m))\n\u001b[0;32m    574\u001b[0m \u001b[38;5;66;03m# Create the parser.\u001b[39;00m\n\u001b[1;32m--> 575\u001b[0m parser \u001b[38;5;241m=\u001b[39m TextFileReader(filepath_or_buffer, \u001b[38;5;241m*\u001b[39m\u001b[38;5;241m*\u001b[39mkwds)\n\u001b[0;32m    577\u001b[0m \u001b[38;5;28;01mif\u001b[39;00m chunksize \u001b[38;5;129;01mor\u001b[39;00m iterator:\n\u001b[0;32m    578\u001b[0m     \u001b[38;5;28;01mreturn\u001b[39;00m parser\n",
      "File \u001b[1;32m~\\anaconda3\\lib\\site-packages\\pandas\\io\\parsers\\readers.py:933\u001b[0m, in \u001b[0;36mTextFileReader.__init__\u001b[1;34m(self, f, engine, **kwds)\u001b[0m\n\u001b[0;32m    930\u001b[0m     \u001b[38;5;28mself\u001b[39m\u001b[38;5;241m.\u001b[39moptions[\u001b[38;5;124m\"\u001b[39m\u001b[38;5;124mhas_index_names\u001b[39m\u001b[38;5;124m\"\u001b[39m] \u001b[38;5;241m=\u001b[39m kwds[\u001b[38;5;124m\"\u001b[39m\u001b[38;5;124mhas_index_names\u001b[39m\u001b[38;5;124m\"\u001b[39m]\n\u001b[0;32m    932\u001b[0m \u001b[38;5;28mself\u001b[39m\u001b[38;5;241m.\u001b[39mhandles: IOHandles \u001b[38;5;241m|\u001b[39m \u001b[38;5;28;01mNone\u001b[39;00m \u001b[38;5;241m=\u001b[39m \u001b[38;5;28;01mNone\u001b[39;00m\n\u001b[1;32m--> 933\u001b[0m \u001b[38;5;28mself\u001b[39m\u001b[38;5;241m.\u001b[39m_engine \u001b[38;5;241m=\u001b[39m \u001b[38;5;28;43mself\u001b[39;49m\u001b[38;5;241;43m.\u001b[39;49m\u001b[43m_make_engine\u001b[49m\u001b[43m(\u001b[49m\u001b[43mf\u001b[49m\u001b[43m,\u001b[49m\u001b[43m \u001b[49m\u001b[38;5;28;43mself\u001b[39;49m\u001b[38;5;241;43m.\u001b[39;49m\u001b[43mengine\u001b[49m\u001b[43m)\u001b[49m\n",
      "File \u001b[1;32m~\\anaconda3\\lib\\site-packages\\pandas\\io\\parsers\\readers.py:1217\u001b[0m, in \u001b[0;36mTextFileReader._make_engine\u001b[1;34m(self, f, engine)\u001b[0m\n\u001b[0;32m   1213\u001b[0m     mode \u001b[38;5;241m=\u001b[39m \u001b[38;5;124m\"\u001b[39m\u001b[38;5;124mrb\u001b[39m\u001b[38;5;124m\"\u001b[39m\n\u001b[0;32m   1214\u001b[0m \u001b[38;5;66;03m# error: No overload variant of \"get_handle\" matches argument types\u001b[39;00m\n\u001b[0;32m   1215\u001b[0m \u001b[38;5;66;03m# \"Union[str, PathLike[str], ReadCsvBuffer[bytes], ReadCsvBuffer[str]]\"\u001b[39;00m\n\u001b[0;32m   1216\u001b[0m \u001b[38;5;66;03m# , \"str\", \"bool\", \"Any\", \"Any\", \"Any\", \"Any\", \"Any\"\u001b[39;00m\n\u001b[1;32m-> 1217\u001b[0m \u001b[38;5;28mself\u001b[39m\u001b[38;5;241m.\u001b[39mhandles \u001b[38;5;241m=\u001b[39m \u001b[43mget_handle\u001b[49m\u001b[43m(\u001b[49m\u001b[43m  \u001b[49m\u001b[38;5;66;43;03m# type: ignore[call-overload]\u001b[39;49;00m\n\u001b[0;32m   1218\u001b[0m \u001b[43m    \u001b[49m\u001b[43mf\u001b[49m\u001b[43m,\u001b[49m\n\u001b[0;32m   1219\u001b[0m \u001b[43m    \u001b[49m\u001b[43mmode\u001b[49m\u001b[43m,\u001b[49m\n\u001b[0;32m   1220\u001b[0m \u001b[43m    \u001b[49m\u001b[43mencoding\u001b[49m\u001b[38;5;241;43m=\u001b[39;49m\u001b[38;5;28;43mself\u001b[39;49m\u001b[38;5;241;43m.\u001b[39;49m\u001b[43moptions\u001b[49m\u001b[38;5;241;43m.\u001b[39;49m\u001b[43mget\u001b[49m\u001b[43m(\u001b[49m\u001b[38;5;124;43m\"\u001b[39;49m\u001b[38;5;124;43mencoding\u001b[39;49m\u001b[38;5;124;43m\"\u001b[39;49m\u001b[43m,\u001b[49m\u001b[43m \u001b[49m\u001b[38;5;28;43;01mNone\u001b[39;49;00m\u001b[43m)\u001b[49m\u001b[43m,\u001b[49m\n\u001b[0;32m   1221\u001b[0m \u001b[43m    \u001b[49m\u001b[43mcompression\u001b[49m\u001b[38;5;241;43m=\u001b[39;49m\u001b[38;5;28;43mself\u001b[39;49m\u001b[38;5;241;43m.\u001b[39;49m\u001b[43moptions\u001b[49m\u001b[38;5;241;43m.\u001b[39;49m\u001b[43mget\u001b[49m\u001b[43m(\u001b[49m\u001b[38;5;124;43m\"\u001b[39;49m\u001b[38;5;124;43mcompression\u001b[39;49m\u001b[38;5;124;43m\"\u001b[39;49m\u001b[43m,\u001b[49m\u001b[43m \u001b[49m\u001b[38;5;28;43;01mNone\u001b[39;49;00m\u001b[43m)\u001b[49m\u001b[43m,\u001b[49m\n\u001b[0;32m   1222\u001b[0m \u001b[43m    \u001b[49m\u001b[43mmemory_map\u001b[49m\u001b[38;5;241;43m=\u001b[39;49m\u001b[38;5;28;43mself\u001b[39;49m\u001b[38;5;241;43m.\u001b[39;49m\u001b[43moptions\u001b[49m\u001b[38;5;241;43m.\u001b[39;49m\u001b[43mget\u001b[49m\u001b[43m(\u001b[49m\u001b[38;5;124;43m\"\u001b[39;49m\u001b[38;5;124;43mmemory_map\u001b[39;49m\u001b[38;5;124;43m\"\u001b[39;49m\u001b[43m,\u001b[49m\u001b[43m \u001b[49m\u001b[38;5;28;43;01mFalse\u001b[39;49;00m\u001b[43m)\u001b[49m\u001b[43m,\u001b[49m\n\u001b[0;32m   1223\u001b[0m \u001b[43m    \u001b[49m\u001b[43mis_text\u001b[49m\u001b[38;5;241;43m=\u001b[39;49m\u001b[43mis_text\u001b[49m\u001b[43m,\u001b[49m\n\u001b[0;32m   1224\u001b[0m \u001b[43m    \u001b[49m\u001b[43merrors\u001b[49m\u001b[38;5;241;43m=\u001b[39;49m\u001b[38;5;28;43mself\u001b[39;49m\u001b[38;5;241;43m.\u001b[39;49m\u001b[43moptions\u001b[49m\u001b[38;5;241;43m.\u001b[39;49m\u001b[43mget\u001b[49m\u001b[43m(\u001b[49m\u001b[38;5;124;43m\"\u001b[39;49m\u001b[38;5;124;43mencoding_errors\u001b[39;49m\u001b[38;5;124;43m\"\u001b[39;49m\u001b[43m,\u001b[49m\u001b[43m \u001b[49m\u001b[38;5;124;43m\"\u001b[39;49m\u001b[38;5;124;43mstrict\u001b[39;49m\u001b[38;5;124;43m\"\u001b[39;49m\u001b[43m)\u001b[49m\u001b[43m,\u001b[49m\n\u001b[0;32m   1225\u001b[0m \u001b[43m    \u001b[49m\u001b[43mstorage_options\u001b[49m\u001b[38;5;241;43m=\u001b[39;49m\u001b[38;5;28;43mself\u001b[39;49m\u001b[38;5;241;43m.\u001b[39;49m\u001b[43moptions\u001b[49m\u001b[38;5;241;43m.\u001b[39;49m\u001b[43mget\u001b[49m\u001b[43m(\u001b[49m\u001b[38;5;124;43m\"\u001b[39;49m\u001b[38;5;124;43mstorage_options\u001b[39;49m\u001b[38;5;124;43m\"\u001b[39;49m\u001b[43m,\u001b[49m\u001b[43m \u001b[49m\u001b[38;5;28;43;01mNone\u001b[39;49;00m\u001b[43m)\u001b[49m\u001b[43m,\u001b[49m\n\u001b[0;32m   1226\u001b[0m \u001b[43m\u001b[49m\u001b[43m)\u001b[49m\n\u001b[0;32m   1227\u001b[0m \u001b[38;5;28;01massert\u001b[39;00m \u001b[38;5;28mself\u001b[39m\u001b[38;5;241m.\u001b[39mhandles \u001b[38;5;129;01mis\u001b[39;00m \u001b[38;5;129;01mnot\u001b[39;00m \u001b[38;5;28;01mNone\u001b[39;00m\n\u001b[0;32m   1228\u001b[0m f \u001b[38;5;241m=\u001b[39m \u001b[38;5;28mself\u001b[39m\u001b[38;5;241m.\u001b[39mhandles\u001b[38;5;241m.\u001b[39mhandle\n",
      "File \u001b[1;32m~\\anaconda3\\lib\\site-packages\\pandas\\io\\common.py:789\u001b[0m, in \u001b[0;36mget_handle\u001b[1;34m(path_or_buf, mode, encoding, compression, memory_map, is_text, errors, storage_options)\u001b[0m\n\u001b[0;32m    784\u001b[0m \u001b[38;5;28;01melif\u001b[39;00m \u001b[38;5;28misinstance\u001b[39m(handle, \u001b[38;5;28mstr\u001b[39m):\n\u001b[0;32m    785\u001b[0m     \u001b[38;5;66;03m# Check whether the filename is to be opened in binary mode.\u001b[39;00m\n\u001b[0;32m    786\u001b[0m     \u001b[38;5;66;03m# Binary mode does not support 'encoding' and 'newline'.\u001b[39;00m\n\u001b[0;32m    787\u001b[0m     \u001b[38;5;28;01mif\u001b[39;00m ioargs\u001b[38;5;241m.\u001b[39mencoding \u001b[38;5;129;01mand\u001b[39;00m \u001b[38;5;124m\"\u001b[39m\u001b[38;5;124mb\u001b[39m\u001b[38;5;124m\"\u001b[39m \u001b[38;5;129;01mnot\u001b[39;00m \u001b[38;5;129;01min\u001b[39;00m ioargs\u001b[38;5;241m.\u001b[39mmode:\n\u001b[0;32m    788\u001b[0m         \u001b[38;5;66;03m# Encoding\u001b[39;00m\n\u001b[1;32m--> 789\u001b[0m         handle \u001b[38;5;241m=\u001b[39m \u001b[38;5;28;43mopen\u001b[39;49m\u001b[43m(\u001b[49m\n\u001b[0;32m    790\u001b[0m \u001b[43m            \u001b[49m\u001b[43mhandle\u001b[49m\u001b[43m,\u001b[49m\n\u001b[0;32m    791\u001b[0m \u001b[43m            \u001b[49m\u001b[43mioargs\u001b[49m\u001b[38;5;241;43m.\u001b[39;49m\u001b[43mmode\u001b[49m\u001b[43m,\u001b[49m\n\u001b[0;32m    792\u001b[0m \u001b[43m            \u001b[49m\u001b[43mencoding\u001b[49m\u001b[38;5;241;43m=\u001b[39;49m\u001b[43mioargs\u001b[49m\u001b[38;5;241;43m.\u001b[39;49m\u001b[43mencoding\u001b[49m\u001b[43m,\u001b[49m\n\u001b[0;32m    793\u001b[0m \u001b[43m            \u001b[49m\u001b[43merrors\u001b[49m\u001b[38;5;241;43m=\u001b[39;49m\u001b[43merrors\u001b[49m\u001b[43m,\u001b[49m\n\u001b[0;32m    794\u001b[0m \u001b[43m            \u001b[49m\u001b[43mnewline\u001b[49m\u001b[38;5;241;43m=\u001b[39;49m\u001b[38;5;124;43m\"\u001b[39;49m\u001b[38;5;124;43m\"\u001b[39;49m\u001b[43m,\u001b[49m\n\u001b[0;32m    795\u001b[0m \u001b[43m        \u001b[49m\u001b[43m)\u001b[49m\n\u001b[0;32m    796\u001b[0m     \u001b[38;5;28;01melse\u001b[39;00m:\n\u001b[0;32m    797\u001b[0m         \u001b[38;5;66;03m# Binary mode\u001b[39;00m\n\u001b[0;32m    798\u001b[0m         handle \u001b[38;5;241m=\u001b[39m \u001b[38;5;28mopen\u001b[39m(handle, ioargs\u001b[38;5;241m.\u001b[39mmode)\n",
      "\u001b[1;31mFileNotFoundError\u001b[0m: [Errno 2] No such file or directory: 'C:/Users/User/Downloadsemployees.csv'"
     ]
    }
   ],
   "source": [
    "df=pd.read_csv(\"C:/Users/User/Downloadsemployees.csv\")\n",
    "df"
   ]
  },
  {
   "cell_type": "code",
   "execution_count": 7,
   "id": "402fc894",
   "metadata": {},
   "outputs": [
    {
     "name": "stdout",
     "output_type": "stream",
     "text": [
      "  First Name  Gender  Salary Bonus % Senior Management             Team\n",
      "0    Douglas    Male   97308   6.945              TRUE        Marketing\n",
      "1     Thomas    Male   61933     NaN              TRUE              NaN\n",
      "2      Maria  Female  130590  11.858             FALSE          Finance\n",
      "3      Jerry    Male     NaN    9.34              TRUE          Finance\n",
      "4      Larry    Male  101004   1.389              TRUE  Client Services\n"
     ]
    }
   ],
   "source": [
    "df=pd.read_csv(\"C:/Users/User/Downloads/employees.csv\")\n",
    "print(df.head())"
   ]
  },
  {
   "cell_type": "code",
   "execution_count": 8,
   "id": "95b111ec",
   "metadata": {},
   "outputs": [
    {
     "name": "stdout",
     "output_type": "stream",
     "text": [
      "First Name           object\n",
      "Gender               object\n",
      "Salary               object\n",
      "Bonus %              object\n",
      "Senior Management    object\n",
      "Team                 object\n",
      "dtype: object\n",
      "       First Name  Gender Salary Bonus % Senior Management             Team\n",
      "count         931     852    998     997               932              957\n",
      "unique        201       3    993     968                 4               13\n",
      "top       Marilyn  Female  91462   8.999              TRUE  Client Services\n",
      "freq           11     428      2       3               467              105\n"
     ]
    }
   ],
   "source": [
    "print(df.dtypes)\n",
    "print(df.describe())"
   ]
  },
  {
   "cell_type": "code",
   "execution_count": 9,
   "id": "594293cd",
   "metadata": {},
   "outputs": [
    {
     "name": "stdout",
     "output_type": "stream",
     "text": [
      "Salary\n",
      "0     97308\n",
      "1     61933\n",
      "2    130590\n",
      "3       NaN\n",
      "4    101004\n",
      "5    115163\n",
      "6     65476\n",
      "7     45906\n",
      "8       NaN\n",
      "9    139852\n",
      "Name: Salary, dtype: object\n"
     ]
    }
   ],
   "source": [
    "print('Salary')\n",
    "print(df['Salary'].head(10))"
   ]
  },
  {
   "cell_type": "code",
   "execution_count": 10,
   "id": "5e0cf0f9",
   "metadata": {},
   "outputs": [
    {
     "name": "stdout",
     "output_type": "stream",
     "text": [
      "0      Male\n",
      "1      Male\n",
      "2    Female\n",
      "3      Male\n",
      "4      Male\n",
      "5      n.a.\n",
      "6    Female\n",
      "7    Female\n",
      "8       NaN\n",
      "9    Female\n",
      "Name: Gender, dtype: object\n"
     ]
    }
   ],
   "source": [
    "print(df['Gender'].head(10))"
   ]
  },
  {
   "cell_type": "code",
   "execution_count": 15,
   "id": "8b8d9375",
   "metadata": {},
   "outputs": [
    {
     "name": "stdout",
     "output_type": "stream",
     "text": [
      "0      Male\n",
      "1      Male\n",
      "2    Female\n",
      "3      Male\n",
      "4      Male\n",
      "5       NaN\n",
      "6    Female\n",
      "7    Female\n",
      "8       NaN\n",
      "9    Female\n",
      "Name: Gender, dtype: object\n"
     ]
    }
   ],
   "source": [
    "missing_value_formats=[\"n.a.\",\"?\",\"NA\",\"n/a\",\"na\",\"--\"]\n",
    "df = pd.read_csv(\"C:/Users/User/Downloads/employees.csv\",na_values=missing_value_formats)\n",
    "print(df['Gender'].head(10))"
   ]
  },
  {
   "cell_type": "code",
   "execution_count": 16,
   "id": "f5b842ad",
   "metadata": {},
   "outputs": [],
   "source": [
    "import pandas as pd\n",
    "missing_value_formats=[\"n.a.\",\"?\",\"NA\",\"n/a\",\"na\",\"--\"]\n",
    "df = pd.read_csv(\"C:/Users/User/Downloads/employees.csv\",na_values=missing_value_formats)\n",
    "def make_int(i):\n",
    "    try:\n",
    "        return int(i)\n",
    "    except:\n",
    "        return pd.np.nan\n",
    "    df['Salary']=df['Salary'].map(make_int)\n",
    "    print(df['Salary'].head())\n",
    "    "
   ]
  },
  {
   "cell_type": "code",
   "execution_count": 17,
   "id": "12be5f64",
   "metadata": {},
   "outputs": [
    {
     "name": "stdout",
     "output_type": "stream",
     "text": [
      "0     97308.0\n",
      "1     61933.0\n",
      "2    130590.0\n",
      "3         NaN\n",
      "4    101004.0\n",
      "Name: Salary, dtype: float64\n"
     ]
    }
   ],
   "source": [
    " print(df['Salary'].head())\n",
    "    "
   ]
  },
  {
   "cell_type": "code",
   "execution_count": 18,
   "id": "8fcc7c01",
   "metadata": {},
   "outputs": [
    {
     "name": "stdout",
     "output_type": "stream",
     "text": [
      "0    False\n",
      "1    False\n",
      "2    False\n",
      "3    False\n",
      "4    False\n",
      "5     True\n",
      "6    False\n",
      "7    False\n",
      "8     True\n",
      "9    False\n",
      "Name: Gender, dtype: bool\n",
      "0     True\n",
      "1     True\n",
      "2     True\n",
      "3     True\n",
      "4     True\n",
      "5    False\n",
      "6     True\n",
      "7     True\n",
      "8    False\n",
      "9     True\n",
      "Name: Gender, dtype: bool\n"
     ]
    }
   ],
   "source": [
    "print(df['Gender'].isnull().head(10))\n",
    "print(df['Gender'].notnull().head(10))"
   ]
  },
  {
   "cell_type": "code",
   "execution_count": 19,
   "id": "e882f61d",
   "metadata": {},
   "outputs": [
    {
     "name": "stdout",
     "output_type": "stream",
     "text": [
      "  First Name  Gender    Salary  Bonus % Senior Management             Team\n",
      "0    Douglas    Male   97308.0    6.945              True        Marketing\n",
      "1     Thomas    Male   61933.0      NaN              True              NaN\n",
      "2      Maria  Female  130590.0   11.858             False          Finance\n",
      "3      Jerry    Male       NaN    9.340              True          Finance\n",
      "4      Larry    Male  101004.0    1.389              True  Client Services\n"
     ]
    }
   ],
   "source": [
    "null_filter=df['Gender'].notnull()\n",
    "print(df[null_filter].head())"
   ]
  },
  {
   "cell_type": "code",
   "execution_count": 20,
   "id": "b23e9835",
   "metadata": {},
   "outputs": [
    {
     "name": "stdout",
     "output_type": "stream",
     "text": [
      "True\n"
     ]
    }
   ],
   "source": [
    "print(df.isnull().values.any())"
   ]
  },
  {
   "cell_type": "code",
   "execution_count": 21,
   "id": "cc84e2ff",
   "metadata": {},
   "outputs": [
    {
     "name": "stdout",
     "output_type": "stream",
     "text": [
      "First Name            70\n",
      "Gender               149\n",
      "Salary                 5\n",
      "Bonus %                4\n",
      "Senior Management     71\n",
      "Team                  48\n",
      "dtype: int64\n"
     ]
    }
   ],
   "source": [
    "print(df.isnull().sum())"
   ]
  },
  {
   "cell_type": "code",
   "execution_count": 22,
   "id": "550645ec",
   "metadata": {},
   "outputs": [
    {
     "name": "stdout",
     "output_type": "stream",
     "text": [
      "False\n"
     ]
    }
   ],
   "source": [
    "new_df=df.dropna(axis=0)\n",
    "print(new_df.isnull().values.any())"
   ]
  },
  {
   "cell_type": "code",
   "execution_count": 23,
   "id": "834c0d2a",
   "metadata": {},
   "outputs": [],
   "source": [
    "new_df=df.dropna(axis=0,how='any')\n",
    "new_df=df.dropna(axis=0,how='all')\n",
    "new_df=df.dropna(axis=1,how='any')\n",
    "new_df=df.dropna(axis=1,how='all')"
   ]
  },
  {
   "cell_type": "code",
   "execution_count": 26,
   "id": "42c866e2",
   "metadata": {},
   "outputs": [
    {
     "name": "stdout",
     "output_type": "stream",
     "text": [
      "new_df\n"
     ]
    }
   ],
   "source": [
    "print(\"new_df\")"
   ]
  },
  {
   "cell_type": "code",
   "execution_count": 28,
   "id": "275284ca",
   "metadata": {},
   "outputs": [
    {
     "name": "stdout",
     "output_type": "stream",
     "text": [
      "    First Name  Gender    Salary  Bonus % Senior Management  \\\n",
      "0      Douglas    Male   97308.0    6.945              True   \n",
      "2        Maria  Female  130590.0   11.858             False   \n",
      "4        Larry    Male  101004.0    1.389              True   \n",
      "6         Ruby  Female   65476.0   10.012              True   \n",
      "9      Frances  Female  139852.0    7.524              True   \n",
      "..         ...     ...       ...      ...               ...   \n",
      "994     George    Male   98874.0    4.479              True   \n",
      "996    Phillip    Male   42392.0   19.675             False   \n",
      "997    Russell    Male   96914.0    1.421             False   \n",
      "998      Larry    Male   60500.0   11.985             False   \n",
      "999     Albert    Male  129949.0   10.169              True   \n",
      "\n",
      "                     Team  \n",
      "0               Marketing  \n",
      "2                 Finance  \n",
      "4         Client Services  \n",
      "6                 Product  \n",
      "9    Business Development  \n",
      "..                    ...  \n",
      "994             Marketing  \n",
      "996               Finance  \n",
      "997               Product  \n",
      "998  Business Development  \n",
      "999                 Sales  \n",
      "\n",
      "[742 rows x 6 columns]\n"
     ]
    }
   ],
   "source": [
    "new_df=df.dropna(axis=0,how='any')\n",
    "print(new_df)"
   ]
  },
  {
   "cell_type": "code",
   "execution_count": 29,
   "id": "a0915abf",
   "metadata": {},
   "outputs": [
    {
     "name": "stdout",
     "output_type": "stream",
     "text": [
      "    First Name  Gender    Salary  Bonus % Senior Management  \\\n",
      "0      Douglas    Male   97308.0    6.945              True   \n",
      "1       Thomas    Male   61933.0      NaN              True   \n",
      "2        Maria  Female  130590.0   11.858             False   \n",
      "3        Jerry    Male       NaN    9.340              True   \n",
      "4        Larry    Male  101004.0    1.389              True   \n",
      "..         ...     ...       ...      ...               ...   \n",
      "995      Henry     NaN  132483.0   16.655             False   \n",
      "996    Phillip    Male   42392.0   19.675             False   \n",
      "997    Russell    Male   96914.0    1.421             False   \n",
      "998      Larry    Male   60500.0   11.985             False   \n",
      "999     Albert    Male  129949.0   10.169              True   \n",
      "\n",
      "                     Team  \n",
      "0               Marketing  \n",
      "1                     NaN  \n",
      "2                 Finance  \n",
      "3                 Finance  \n",
      "4         Client Services  \n",
      "..                    ...  \n",
      "995          Distribution  \n",
      "996               Finance  \n",
      "997               Product  \n",
      "998  Business Development  \n",
      "999                 Sales  \n",
      "\n",
      "[1000 rows x 6 columns]\n"
     ]
    }
   ],
   "source": [
    "new_df=df.dropna(axis=0,how='all')\n",
    "print(new_df)"
   ]
  },
  {
   "cell_type": "code",
   "execution_count": 30,
   "id": "c11f71cf",
   "metadata": {},
   "outputs": [
    {
     "name": "stdout",
     "output_type": "stream",
     "text": [
      "Empty DataFrame\n",
      "Columns: []\n",
      "Index: [0, 1, 2, 3, 4, 5, 6, 7, 8, 9, 10, 11, 12, 13, 14, 15, 16, 17, 18, 19, 20, 21, 22, 23, 24, 25, 26, 27, 28, 29, 30, 31, 32, 33, 34, 35, 36, 37, 38, 39, 40, 41, 42, 43, 44, 45, 46, 47, 48, 49, 50, 51, 52, 53, 54, 55, 56, 57, 58, 59, 60, 61, 62, 63, 64, 65, 66, 67, 68, 69, 70, 71, 72, 73, 74, 75, 76, 77, 78, 79, 80, 81, 82, 83, 84, 85, 86, 87, 88, 89, 90, 91, 92, 93, 94, 95, 96, 97, 98, 99, ...]\n",
      "\n",
      "[1000 rows x 0 columns]\n"
     ]
    }
   ],
   "source": [
    "new_df=df.dropna(axis=1,how='any')\n",
    "print(new_df)"
   ]
  },
  {
   "cell_type": "code",
   "execution_count": 31,
   "id": "0e8d33b5",
   "metadata": {},
   "outputs": [
    {
     "name": "stdout",
     "output_type": "stream",
     "text": [
      "    First Name  Gender    Salary  Bonus % Senior Management  \\\n",
      "0      Douglas    Male   97308.0    6.945              True   \n",
      "1       Thomas    Male   61933.0      NaN              True   \n",
      "2        Maria  Female  130590.0   11.858             False   \n",
      "3        Jerry    Male       NaN    9.340              True   \n",
      "4        Larry    Male  101004.0    1.389              True   \n",
      "..         ...     ...       ...      ...               ...   \n",
      "995      Henry     NaN  132483.0   16.655             False   \n",
      "996    Phillip    Male   42392.0   19.675             False   \n",
      "997    Russell    Male   96914.0    1.421             False   \n",
      "998      Larry    Male   60500.0   11.985             False   \n",
      "999     Albert    Male  129949.0   10.169              True   \n",
      "\n",
      "                     Team  \n",
      "0               Marketing  \n",
      "1                     NaN  \n",
      "2                 Finance  \n",
      "3                 Finance  \n",
      "4         Client Services  \n",
      "..                    ...  \n",
      "995          Distribution  \n",
      "996               Finance  \n",
      "997               Product  \n",
      "998  Business Development  \n",
      "999                 Sales  \n",
      "\n",
      "[1000 rows x 6 columns]\n"
     ]
    }
   ],
   "source": [
    "new_df=df.dropna(axis=1,how='all')\n",
    "print(new_df)"
   ]
  },
  {
   "cell_type": "code",
   "execution_count": 32,
   "id": "b37972f1",
   "metadata": {},
   "outputs": [
    {
     "name": "stdout",
     "output_type": "stream",
     "text": [
      "False\n"
     ]
    }
   ],
   "source": [
    "new_df=df.dropna(axis=0)\n",
    "print(new_df.isnull().values.any())"
   ]
  },
  {
   "cell_type": "code",
   "execution_count": 33,
   "id": "dfecd7a0",
   "metadata": {},
   "outputs": [
    {
     "data": {
      "text/plain": [
       "0       97308.0\n",
       "1       61933.0\n",
       "2      130590.0\n",
       "3           0.0\n",
       "4      101004.0\n",
       "         ...   \n",
       "995    132483.0\n",
       "996     42392.0\n",
       "997     96914.0\n",
       "998     60500.0\n",
       "999    129949.0\n",
       "Name: Salary, Length: 1000, dtype: float64"
      ]
     },
     "execution_count": 33,
     "metadata": {},
     "output_type": "execute_result"
    }
   ],
   "source": [
    "df['Salary'].fillna(0)"
   ]
  },
  {
   "cell_type": "code",
   "execution_count": 34,
   "id": "99f2a29c",
   "metadata": {},
   "outputs": [
    {
     "data": {
      "text/plain": [
       "0           Male\n",
       "1           Male\n",
       "2         Female\n",
       "3           Male\n",
       "4           Male\n",
       "         ...    \n",
       "995    No Gender\n",
       "996         Male\n",
       "997         Male\n",
       "998         Male\n",
       "999         Male\n",
       "Name: Gender, Length: 1000, dtype: object"
      ]
     },
     "execution_count": 34,
     "metadata": {},
     "output_type": "execute_result"
    }
   ],
   "source": [
    "df['Gender'].fillna('No Gender')"
   ]
  },
  {
   "cell_type": "code",
   "execution_count": 35,
   "id": "2060db8f",
   "metadata": {},
   "outputs": [
    {
     "data": {
      "text/plain": [
       "0       97308.0\n",
       "1       61933.0\n",
       "2      130590.0\n",
       "3      130590.0\n",
       "4      101004.0\n",
       "         ...   \n",
       "995    132483.0\n",
       "996     42392.0\n",
       "997     96914.0\n",
       "998     60500.0\n",
       "999    129949.0\n",
       "Name: Salary, Length: 1000, dtype: float64"
      ]
     },
     "execution_count": 35,
     "metadata": {},
     "output_type": "execute_result"
    }
   ],
   "source": [
    "df['Salary'].fillna(method='pad')"
   ]
  },
  {
   "cell_type": "code",
   "execution_count": 36,
   "id": "32dfeaed",
   "metadata": {},
   "outputs": [
    {
     "data": {
      "text/plain": [
       "0       97308.0\n",
       "1       61933.0\n",
       "2      130590.0\n",
       "3      101004.0\n",
       "4      101004.0\n",
       "         ...   \n",
       "995    132483.0\n",
       "996     42392.0\n",
       "997     96914.0\n",
       "998     60500.0\n",
       "999    129949.0\n",
       "Name: Salary, Length: 1000, dtype: float64"
      ]
     },
     "execution_count": 36,
     "metadata": {},
     "output_type": "execute_result"
    }
   ],
   "source": [
    "df['Salary'].fillna(method='bfill')"
   ]
  },
  {
   "cell_type": "code",
   "execution_count": 37,
   "id": "f9d5d73f",
   "metadata": {},
   "outputs": [
    {
     "data": {
      "text/plain": [
       "0       97308.0\n",
       "1       61933.0\n",
       "2      130590.0\n",
       "3      115797.0\n",
       "4      101004.0\n",
       "         ...   \n",
       "995    132483.0\n",
       "996     42392.0\n",
       "997     96914.0\n",
       "998     60500.0\n",
       "999    129949.0\n",
       "Name: Salary, Length: 1000, dtype: float64"
      ]
     },
     "execution_count": 37,
     "metadata": {},
     "output_type": "execute_result"
    }
   ],
   "source": [
    "df['Salary'].interpolate(method='linear',direction='forward')"
   ]
  },
  {
   "cell_type": "code",
   "execution_count": null,
   "id": "74ea8411",
   "metadata": {},
   "outputs": [],
   "source": []
  }
 ],
 "metadata": {
  "kernelspec": {
   "display_name": "Python 3 (ipykernel)",
   "language": "python",
   "name": "python3"
  },
  "language_info": {
   "codemirror_mode": {
    "name": "ipython",
    "version": 3
   },
   "file_extension": ".py",
   "mimetype": "text/x-python",
   "name": "python",
   "nbconvert_exporter": "python",
   "pygments_lexer": "ipython3",
   "version": "3.9.12"
  }
 },
 "nbformat": 4,
 "nbformat_minor": 5
}
