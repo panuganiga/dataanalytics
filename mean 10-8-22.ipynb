{
 "cells": [
  {
   "cell_type": "code",
   "execution_count": 13,
   "id": "6b269198",
   "metadata": {},
   "outputs": [],
   "source": [
    "import pandas as pd\n",
    "import numpy as np\n",
    "from scipy import stats\n"
   ]
  },
  {
   "cell_type": "code",
   "execution_count": 16,
   "id": "787bdc1b",
   "metadata": {},
   "outputs": [
    {
     "name": "stdout",
     "output_type": "stream",
     "text": [
      "accept null hypothesis\n"
     ]
    }
   ],
   "source": [
    "x=stats.norm.rvs(30,10,30)\n",
    "results=stats.ttest_1samp(x,27)\n",
    "alpha=0.05\n",
    "if(results[0]<0)&(results[1]/2<alpha):\n",
    "    print(\"rejct null hypothesis,mean is greater than 27\")\n",
    "else:print(\"accept null hypothesis\")"
   ]
  },
  {
   "cell_type": "code",
   "execution_count": 17,
   "id": "ceb6f132",
   "metadata": {},
   "outputs": [],
   "source": [
    "y=stats.norm.rvs(500,10,30)\n",
    "res=stats.ttest_1samp(x,505)"
   ]
  },
  {
   "cell_type": "code",
   "execution_count": 18,
   "id": "ba3eb086",
   "metadata": {},
   "outputs": [
    {
     "data": {
      "text/plain": [
       "Ttest_1sampResult(statistic=-288.1032623276128, pvalue=1.1034252956085537e-51)"
      ]
     },
     "execution_count": 18,
     "metadata": {},
     "output_type": "execute_result"
    }
   ],
   "source": [
    "res\n"
   ]
  },
  {
   "cell_type": "code",
   "execution_count": 19,
   "id": "304b9850",
   "metadata": {},
   "outputs": [],
   "source": [
    "import math\n",
    "xbar=505\n",
    "SEM=(10/math.sqrt(30))"
   ]
  },
  {
   "cell_type": "code",
   "execution_count": 20,
   "id": "40a3bfc2",
   "metadata": {},
   "outputs": [
    {
     "data": {
      "text/plain": [
       "2.7386127875258306"
      ]
     },
     "execution_count": 20,
     "metadata": {},
     "output_type": "execute_result"
    }
   ],
   "source": [
    "mu=500\n",
    "z=(xbar-mu)/SEM\n",
    "z"
   ]
  },
  {
   "cell_type": "code",
   "execution_count": 21,
   "id": "b0a08150",
   "metadata": {},
   "outputs": [
    {
     "data": {
      "text/plain": [
       "0.0061698993205441255"
      ]
     },
     "execution_count": 21,
     "metadata": {},
     "output_type": "execute_result"
    }
   ],
   "source": [
    "pval=2*(1-stats.norm.cdf(z))\n",
    "pval"
   ]
  },
  {
   "cell_type": "code",
   "execution_count": 23,
   "id": "c03a705e",
   "metadata": {},
   "outputs": [
    {
     "name": "stdout",
     "output_type": "stream",
     "text": [
      "reject null hypothesis\n"
     ]
    }
   ],
   "source": [
    "alpha=0.03\n",
    "if(pval<alpha):\n",
    " print(\"reject null hypothesis\")\n",
    "else:print(\"Accept null hypothesis\")"
   ]
  },
  {
   "cell_type": "code",
   "execution_count": null,
   "id": "e58605c2",
   "metadata": {},
   "outputs": [],
   "source": []
  }
 ],
 "metadata": {
  "kernelspec": {
   "display_name": "Python 3 (ipykernel)",
   "language": "python",
   "name": "python3"
  },
  "language_info": {
   "codemirror_mode": {
    "name": "ipython",
    "version": 3
   },
   "file_extension": ".py",
   "mimetype": "text/x-python",
   "name": "python",
   "nbconvert_exporter": "python",
   "pygments_lexer": "ipython3",
   "version": "3.9.12"
  }
 },
 "nbformat": 4,
 "nbformat_minor": 5
}
